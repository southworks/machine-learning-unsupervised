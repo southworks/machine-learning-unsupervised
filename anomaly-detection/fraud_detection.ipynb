{
 "cells": [
  {
   "cell_type": "code",
   "execution_count": 1,
   "id": "8bb7ad38",
   "metadata": {},
   "outputs": [],
   "source": [
    "import os\n",
    "\n",
    "import matplotlib.pyplot as plt\n",
    "import numpy as np\n",
    "import pandas as pd\n",
    "from sklearn.ensemble import IsolationForest\n",
    "from tensorflow.keras.layers import Input, Dense\n",
    "from tensorflow.keras.models import Model, Sequential\n",
    "from tensorflow.keras.optimizers import Adam\n",
    "from sklearn.metrics import classification_report, confusion_matrix, accuracy_score, precision_recall_fscore_support, mean_squared_error, recall_score\n",
    "from sklearn.mixture import GaussianMixture\n",
    "from sklearn.neighbors import LocalOutlierFactor\n",
    "from sklearn.preprocessing import StandardScaler\n",
    "\n",
    "import warnings\n",
    "warnings.filterwarnings('ignore')"
   ]
  },
  {
   "cell_type": "markdown",
   "id": "dca145e0",
   "metadata": {},
   "source": [
    "## Dataset"
   ]
  },
  {
   "cell_type": "code",
   "execution_count": 2,
   "id": "3c7a87e2",
   "metadata": {},
   "outputs": [],
   "source": [
    "# Read training and test data\n",
    "processed_data_dir = 'data'\n",
    "X_train_path = os.path.join(processed_data_dir, 'X_train.csv')\n",
    "y_train_path = os.path.join(processed_data_dir, 'y_train.csv')\n",
    "X_test_path = os.path.join(processed_data_dir, 'X_test.csv')\n",
    "y_test_path = os.path.join(processed_data_dir, 'y_test.csv')\n",
    "\n",
    "X_train = pd.read_csv(X_train_path)\n",
    "y_train = pd.read_csv(y_train_path)\n",
    "X_test = pd.read_csv(X_test_path)\n",
    "y_test = pd.read_csv(y_test_path)"
   ]
  },
  {
   "cell_type": "markdown",
   "id": "2ef57607",
   "metadata": {},
   "source": [
    "# Algorithms"
   ]
  },
  {
   "cell_type": "code",
   "execution_count": 3,
   "id": "4580f7f8",
   "metadata": {},
   "outputs": [],
   "source": [
    "# Create a results dataframe to store and later compare results\n",
    "results = pd.DataFrame()\n",
    "results['Metrics'] = ['True Negatives', 'False Negatives', 'False Positives', 'True Positives', 'Accuracy', 'Precision', 'Recall', 'F1-Score', 'Support']\n",
    "\n",
    "def get_metrics(labels, pred_labels):\n",
    "    conf_matrix = np.asarray(confusion_matrix(labels, pred_labels))\n",
    "    metrics = np.concatenate(([accuracy_score(labels, pred_labels)], precision_recall_fscore_support(labels, pred_labels, average='binary')))\n",
    "    return np.concatenate((conf_matrix.reshape(-1),metrics))\n",
    "\n",
    "def fit_model(input_data, model_fn, model_args=None, threshold=None, labels=None):\n",
    "    return model_fn(input_data, model_args, threshold, labels)\n",
    "\n",
    "def predict_model(input_data, model, predict_fn, threshold=None):\n",
    "    return predict_fn(input_data, model, threshold)"
   ]
  },
  {
   "cell_type": "markdown",
   "id": "9f4588ca",
   "metadata": {},
   "source": [
    "## Isolation Forest"
   ]
  },
  {
   "cell_type": "code",
   "execution_count": 4,
   "id": "87614d2b",
   "metadata": {},
   "outputs": [],
   "source": [
    "def fit_isolation_forest(input_data, args=None, threshold=None, labels=None):\n",
    "    if threshold == None:\n",
    "        model = IsolationForest()\n",
    "    else:\n",
    "        model = IsolationForest(contamination=threshold)\n",
    "    \n",
    "    model.fit(input_data)\n",
    "\n",
    "    return model\n",
    "\n",
    "def predict_isolation_forest(input_data, model, threshold=None):\n",
    "    y_pred = model.predict(input_data)\n",
    "    y_pred = [1 if pred == -1 else 0 for pred in y_pred]\n",
    "\n",
    "    return y_pred"
   ]
  },
  {
   "cell_type": "code",
   "execution_count": 5,
   "id": "a0771bd4",
   "metadata": {},
   "outputs": [
    {
     "name": "stdout",
     "output_type": "stream",
     "text": [
      "CONFUSION MATRIX:\n",
      " [[495  30]\n",
      " [  5  85]]\n",
      "Classification Report:\n",
      "               precision    recall  f1-score   support\n",
      "\n",
      "           0       0.99      0.94      0.97       525\n",
      "           1       0.74      0.94      0.83        90\n",
      "\n",
      "    accuracy                           0.94       615\n",
      "   macro avg       0.86      0.94      0.90       615\n",
      "weighted avg       0.95      0.94      0.95       615\n",
      "\n"
     ]
    }
   ],
   "source": [
    "if_model = fit_model(X_train, fit_isolation_forest, None)\n",
    "\n",
    "y_pred_test = predict_model(X_test, if_model, predict_isolation_forest)\n",
    "print('CONFUSION MATRIX:\\n', confusion_matrix(y_test,y_pred_test))\n",
    "print(\"Classification Report:\\n\", classification_report(y_test, y_pred_test))"
   ]
  },
  {
   "cell_type": "code",
   "execution_count": 6,
   "id": "d1414c18",
   "metadata": {},
   "outputs": [],
   "source": [
    "results['Isolation Forest'] = get_metrics(y_test, y_pred_test)"
   ]
  },
  {
   "cell_type": "markdown",
   "id": "cabc9509",
   "metadata": {},
   "source": [
    "## Local Outlier Factor"
   ]
  },
  {
   "cell_type": "markdown",
   "id": "c5fe28f8",
   "metadata": {},
   "source": [
    "#### Dataset Distribution (Outlier and Novelty detection)\n",
    "\n",
    "We have to distribute the datasets in two different ways in order to perform both outlier and novelty detection. \n",
    "\n",
    "For **Outlier Detection** dataset we are going to concat train and test set since this methods run predictions over the same data. \n",
    "\n",
    "For **Novelty Detection** dataset we need to remove all fraud samples from the training set and put them on the test set."
   ]
  },
  {
   "cell_type": "code",
   "execution_count": 7,
   "id": "31b91cfd",
   "metadata": {},
   "outputs": [
    {
     "name": "stdout",
     "output_type": "stream",
     "text": [
      "X_train 2460\n",
      "X_nov_train 2102\n",
      "X_out_train 3075\n",
      "y_out_train 3075\n",
      "X_test 615\n",
      "y_test 615\n"
     ]
    }
   ],
   "source": [
    "Xy_train = pd.concat([X_train, y_train], axis=1)\n",
    "Xy_test = pd.concat([X_test, y_test], axis=1)\n",
    "\n",
    "# Outlier-detection Dataset\n",
    "X_out_train = pd.concat([Xy_train, Xy_test], axis=0)\n",
    "y_out_train = pd.DataFrame(X_out_train['isFradulent'])\n",
    "X_out_train.drop('isFradulent', axis='columns', inplace= True)\n",
    "\n",
    "# Novelty-detection Dataset\n",
    "X_nov_train = Xy_train[Xy_train['isFradulent'] == 0].copy()\n",
    "X_nov_train.drop('isFradulent', axis='columns', inplace= True)\n",
    "X_nov_train_val = Xy_train.drop('isFradulent', axis='columns', inplace= False)\n",
    "y_nov_train_val = y_train\n",
    "\n",
    "print('X_train', str(len(X_train)))\n",
    "print('X_nov_train', str(len(X_nov_train)))\n",
    "print('X_out_train', str(len(X_out_train)))\n",
    "print('y_out_train', str(len(y_out_train)))\n",
    "print('X_test', str(len(X_test)))\n",
    "print('y_test', str(len(y_test)))"
   ]
  },
  {
   "cell_type": "markdown",
   "id": "549b948b",
   "metadata": {},
   "source": [
    "### Training"
   ]
  },
  {
   "cell_type": "code",
   "execution_count": 8,
   "id": "9fb662fd",
   "metadata": {},
   "outputs": [
    {
     "name": "stdout",
     "output_type": "stream",
     "text": [
      "X_train len:  3075\n",
      "y_train len:  3075\n",
      "total:  3075\n",
      "no_fraud:  448\n",
      "no_valid:  2627\n",
      "Outlier Fraction:  0.1705367339170156\n"
     ]
    }
   ],
   "source": [
    "# Calculate outlier_fraction value to be sent as contamination parameter\n",
    "no_fraud = len(y_out_train[y_out_train['isFradulent'] == 1])\n",
    "no_valid = len(y_out_train) - no_fraud\n",
    "\n",
    "outlier_fraction = no_fraud/float(no_valid)\n",
    "\n",
    "print('X_train len: ',len(X_out_train))\n",
    "print('y_train len: ',len(y_out_train))\n",
    "print('total: ',no_fraud+no_valid)\n",
    "print('no_fraud: ',no_fraud)\n",
    "print('no_valid: ',no_valid)\n",
    "print('Outlier Fraction: ',outlier_fraction)"
   ]
  },
  {
   "cell_type": "markdown",
   "id": "e9aaf3ed",
   "metadata": {},
   "source": [
    "#### Outlier Detection"
   ]
  },
  {
   "cell_type": "code",
   "execution_count": 9,
   "id": "91744acd",
   "metadata": {},
   "outputs": [
    {
     "name": "stdout",
     "output_type": "stream",
     "text": [
      "CLASSIFICATION RESULTS\n",
      "              precision    recall  f1-score   support\n",
      "\n",
      "           0       0.91      0.88      0.89      2627\n",
      "           1       0.40      0.46      0.43       448\n",
      "\n",
      "    accuracy                           0.82      3075\n",
      "   macro avg       0.65      0.67      0.66      3075\n",
      "weighted avg       0.83      0.82      0.82      3075\n",
      "\n"
     ]
    }
   ],
   "source": [
    "lof_model = LocalOutlierFactor(n_neighbors = 20,contamination = outlier_fraction, novelty=False)\n",
    "\n",
    "y_prediction1 = lof_model.fit_predict(X_out_train) # Fitting the model.\n",
    "\n",
    "y_prediction1[y_prediction1 == 1] = 0 # Valid transactions are labelled as 0.\n",
    "y_prediction1[y_prediction1 == -1] = 1 # Fraudulent transactions are labelled as 1.\n",
    "\n",
    "print('CLASSIFICATION RESULTS')\n",
    "print(classification_report(y_out_train,y_prediction1))"
   ]
  },
  {
   "cell_type": "markdown",
   "id": "355e9592",
   "metadata": {},
   "source": [
    "#### Novelty Detection"
   ]
  },
  {
   "cell_type": "code",
   "execution_count": 10,
   "id": "9315c48d",
   "metadata": {},
   "outputs": [],
   "source": [
    "def fit_local_outlier_factor(input_data, args, threshold=None, labels=None):\n",
    "    Xy_input = pd.concat([input_data, labels], axis=1)\n",
    "    X_no_fraud = Xy_input[Xy_input['isFradulent'] == 0].copy()\n",
    "    X_no_fraud.drop('isFradulent', axis='columns', inplace= True)\n",
    "\n",
    "    if threshold == None:\n",
    "        no_fraud = len(labels[labels['isFradulent'] == 1])\n",
    "        no_valid = len(labels) - no_fraud\n",
    "        outlier_fraction = no_fraud/float(no_valid)\n",
    "\n",
    "        model = LocalOutlierFactor(n_neighbors=args[0], contamination=outlier_fraction, novelty=True)\n",
    "    else:\n",
    "        model = LocalOutlierFactor(n_neighbors=args[0], contamination=threshold, novelty=True)\n",
    "    \n",
    "    model.fit(X_no_fraud)\n",
    "\n",
    "    return model\n",
    "\n",
    "def predict_local_outlier_factor(input_data, model, threshold=None):\n",
    "    y_prediction = model.predict(input_data)\n",
    "    y_prediction[y_prediction == 1] = 0 # Valid transactions are labelled as 0.\n",
    "    y_prediction[y_prediction == -1] = 1 # Fraudulent transactions are labelled as 1.\n",
    "\n",
    "    return y_prediction"
   ]
  },
  {
   "cell_type": "code",
   "execution_count": 11,
   "id": "573255c4",
   "metadata": {},
   "outputs": [
    {
     "name": "stdout",
     "output_type": "stream",
     "text": [
      "CONFUSION MATRIX:\n",
      " [[418 107]\n",
      " [ 20  70]]\n",
      "Classification Report:\n",
      "               precision    recall  f1-score   support\n",
      "\n",
      "           0       0.95      0.80      0.87       525\n",
      "           1       0.40      0.78      0.52        90\n",
      "\n",
      "    accuracy                           0.79       615\n",
      "   macro avg       0.67      0.79      0.70       615\n",
      "weighted avg       0.87      0.79      0.82       615\n",
      "\n"
     ]
    }
   ],
   "source": [
    "lof_model = fit_model(X_train, fit_local_outlier_factor, model_args=[20], labels=y_train)\n",
    "\n",
    "y_pred_test = predict_model(X_test, lof_model, predict_local_outlier_factor)\n",
    "print('CONFUSION MATRIX:\\n', confusion_matrix(y_test, y_pred_test))\n",
    "print(\"Classification Report:\\n\", classification_report(y_test, y_pred_test))"
   ]
  },
  {
   "cell_type": "markdown",
   "id": "c1e75c9a",
   "metadata": {},
   "source": [
    "**Note:** We will only use the Novelty Detection results, since we want to compare results over the same test data and we only can run prediction with outlier detection over the training data."
   ]
  },
  {
   "cell_type": "code",
   "execution_count": 12,
   "id": "075e27a8",
   "metadata": {},
   "outputs": [],
   "source": [
    "results['LOF Novelty Detection'] = get_metrics(y_test,y_pred_test)"
   ]
  },
  {
   "cell_type": "markdown",
   "id": "fa7df841",
   "metadata": {},
   "source": [
    "## Gaussian Mixture"
   ]
  },
  {
   "cell_type": "code",
   "execution_count": 13,
   "id": "6dec053c",
   "metadata": {},
   "outputs": [],
   "source": [
    "def fit_gaussian_mixture(input_data, args=None, threshold=None, labels=None):\n",
    "    if threshold == None:\n",
    "        model = GaussianMixture(n_components=2)\n",
    "    else:\n",
    "        model = GaussianMixture(n_components=2, reg_covar=threshold)\n",
    "    \n",
    "    model.fit(input_data)\n",
    "\n",
    "    return model\n",
    "\n",
    "def predict_gaussian_mixture(input_data, model, threshold=None):\n",
    "    return model.predict(input_data)"
   ]
  },
  {
   "cell_type": "code",
   "execution_count": 14,
   "id": "fa8ecb5d",
   "metadata": {},
   "outputs": [
    {
     "name": "stdout",
     "output_type": "stream",
     "text": [
      "CONFUSION MATRIX:\n",
      " [[506  19]\n",
      " [ 27  63]]\n",
      "Classification Report:\n",
      "               precision    recall  f1-score   support\n",
      "\n",
      "           0       0.95      0.96      0.96       525\n",
      "           1       0.77      0.70      0.73        90\n",
      "\n",
      "    accuracy                           0.93       615\n",
      "   macro avg       0.86      0.83      0.84       615\n",
      "weighted avg       0.92      0.93      0.92       615\n",
      "\n"
     ]
    }
   ],
   "source": [
    "gm_model = fit_model(X_train, fit_gaussian_mixture, None)\n",
    "\n",
    "y_pred_test = predict_model(X_test, gm_model, predict_gaussian_mixture)\n",
    "print('CONFUSION MATRIX:\\n', confusion_matrix(y_test,y_pred_test))\n",
    "print(\"Classification Report:\\n\", classification_report(y_test, y_pred_test))"
   ]
  },
  {
   "cell_type": "code",
   "execution_count": 15,
   "id": "7ac14882",
   "metadata": {},
   "outputs": [],
   "source": [
    "results['Gaussian Mixture'] = get_metrics(y_test, y_pred_test)"
   ]
  },
  {
   "cell_type": "markdown",
   "id": "f77028a4",
   "metadata": {},
   "source": [
    "## Autoencoders"
   ]
  },
  {
   "cell_type": "code",
   "execution_count": 16,
   "id": "a8355045",
   "metadata": {},
   "outputs": [],
   "source": [
    "def fit_autoencoder(input_data, args, threshold=None, labels=None):\n",
    "    ss = StandardScaler()\n",
    "    X_tscaled = ss.fit_transform(input_data.values)\n",
    "    X_fit = pd.DataFrame(X_tscaled, columns=input_data.columns, index=input_data.index)\n",
    "\n",
    "    # input\n",
    "    inp = Input(shape=(X_fit.shape[1],))\n",
    "\n",
    "    # Encoder\n",
    "    x = Dense(100, activation='relu')(inp)\n",
    "    x = Dense(50, activation='relu')(x)\n",
    "\n",
    "    # Decoder\n",
    "    x = Dense(50, activation='tanh')(x)\n",
    "    x = Dense(100, activation='tanh')(x)\n",
    "\n",
    "    ## output\n",
    "    output = Dense(X_fit.shape[1], activation='relu')(x)\n",
    "\n",
    "    autoencoder = Model(inp, output)\n",
    "\n",
    "    lr = args[0]\n",
    "    epochs = args[1]\n",
    "    adam = Adam(lr=lr, decay=(lr/epochs))\n",
    "\n",
    "    autoencoder.compile(optimizer=adam, loss=\"mean_squared_error\")\n",
    "\n",
    "    autoencoder.fit(X_fit.values, X_fit.values, batch_size=2048, epochs=epochs,\n",
    "                          shuffle=True, verbose=0)\n",
    "    encoder = Sequential()\n",
    "    encoder.add(autoencoder.layers[0])\n",
    "    encoder.add(autoencoder.layers[1])\n",
    "    encoder.add(autoencoder.layers[2])\n",
    "\n",
    "    decoder = Sequential()\n",
    "    decoder.add(autoencoder.layers[3])\n",
    "    decoder.add(autoencoder.layers[4])\n",
    "    decoder.add(autoencoder.layers[5])\n",
    "\n",
    "    return (encoder, decoder)\n",
    "\n",
    "def get_autoencoder_rc_scores(input_data, model):\n",
    "    ss = StandardScaler()\n",
    "    X_tscaled = ss.fit_transform(input_data.values)\n",
    "    X_fit = pd.DataFrame(X_tscaled, columns=input_data.columns, index=input_data.index)\n",
    "\n",
    "    encoded_data = model[0].predict(X_fit)\n",
    "    decoded_data = model[1].predict(encoded_data)\n",
    "\n",
    "    decoded_df = pd.DataFrame(decoded_data, columns=X_fit.columns, index=X_fit.index)\n",
    "\n",
    "    reconstruction_scores = []\n",
    "    for idx in X_fit.index:\n",
    "        score = mean_squared_error(X_fit.loc[idx], decoded_df.loc[idx])\n",
    "        reconstruction_scores.append(score)\n",
    "        \n",
    "    rc_scores = pd.DataFrame(reconstruction_scores, index=X_fit.index, columns=['reconstruction_score']).sort_values(by='reconstruction_score', ascending=False)\n",
    "\n",
    "    return rc_scores\n",
    "\n",
    "def predict_autoencoder(input_data, model, threshold=None):\n",
    "    rc_scores = get_autoencoder_rc_scores(input_data, model)\n",
    "\n",
    "    if threshold == None:\n",
    "        rec_median = rc_scores['reconstruction_score'].median()\n",
    "        rec_std = rc_scores['reconstruction_score'].std()\n",
    "\n",
    "        default_threshold = rec_median + 2*rec_std\n",
    "        score_filter = rc_scores > default_threshold\n",
    "    else:\n",
    "        score_filter = rc_scores > threshold\n",
    "\n",
    "    top_scores_idx = rc_scores[score_filter].dropna().index\n",
    "\n",
    "    pred = np.zeros(len(input_data))\n",
    "   \n",
    "    for x in top_scores_idx:\n",
    "        pred[x] = 1\n",
    "\n",
    "    return pred"
   ]
  },
  {
   "cell_type": "code",
   "execution_count": 17,
   "id": "98661ea5",
   "metadata": {},
   "outputs": [
    {
     "name": "stdout",
     "output_type": "stream",
     "text": [
      "CONFUSION MATRIX:\n",
      " [[524   1]\n",
      " [ 49  41]]\n",
      "Classification Report:\n",
      "               precision    recall  f1-score   support\n",
      "\n",
      "           0       0.91      1.00      0.95       525\n",
      "           1       0.98      0.46      0.62        90\n",
      "\n",
      "    accuracy                           0.92       615\n",
      "   macro avg       0.95      0.73      0.79       615\n",
      "weighted avg       0.92      0.92      0.91       615\n",
      "\n"
     ]
    }
   ],
   "source": [
    "args = [0.0001, 300] # the fit function takes 2 arguments: lr (set to 0.0001) and epochs (set to 300)\n",
    "ae_model = fit_model(X_train, fit_autoencoder, args)\n",
    "\n",
    "y_pred_test = predict_model(X_test, ae_model, predict_autoencoder)\n",
    "print('CONFUSION MATRIX:\\n', confusion_matrix(y_test,y_pred_test))\n",
    "print(\"Classification Report:\\n\", classification_report(y_test, y_pred_test))"
   ]
  },
  {
   "cell_type": "code",
   "execution_count": 18,
   "id": "c40298c4",
   "metadata": {},
   "outputs": [],
   "source": [
    "results['Autoencoders'] = get_metrics(y_test, y_pred_test)"
   ]
  },
  {
   "cell_type": "markdown",
   "id": "845b1abe",
   "metadata": {},
   "source": [
    "# Training Results"
   ]
  },
  {
   "cell_type": "code",
   "execution_count": 19,
   "id": "c06442e3",
   "metadata": {},
   "outputs": [
    {
     "data": {
      "text/html": [
       "<div>\n",
       "<style scoped>\n",
       "    .dataframe tbody tr th:only-of-type {\n",
       "        vertical-align: middle;\n",
       "    }\n",
       "\n",
       "    .dataframe tbody tr th {\n",
       "        vertical-align: top;\n",
       "    }\n",
       "\n",
       "    .dataframe thead th {\n",
       "        text-align: right;\n",
       "    }\n",
       "</style>\n",
       "<table border=\"1\" class=\"dataframe\">\n",
       "  <thead>\n",
       "    <tr style=\"text-align: right;\">\n",
       "      <th></th>\n",
       "      <th>Metrics</th>\n",
       "      <th>Isolation Forest</th>\n",
       "      <th>LOF Novelty Detection</th>\n",
       "      <th>Gaussian Mixture</th>\n",
       "      <th>Autoencoders</th>\n",
       "    </tr>\n",
       "  </thead>\n",
       "  <tbody>\n",
       "    <tr>\n",
       "      <th>0</th>\n",
       "      <td>True Negatives</td>\n",
       "      <td>495</td>\n",
       "      <td>418</td>\n",
       "      <td>506</td>\n",
       "      <td>524</td>\n",
       "    </tr>\n",
       "    <tr>\n",
       "      <th>1</th>\n",
       "      <td>False Negatives</td>\n",
       "      <td>30</td>\n",
       "      <td>107</td>\n",
       "      <td>19</td>\n",
       "      <td>1</td>\n",
       "    </tr>\n",
       "    <tr>\n",
       "      <th>2</th>\n",
       "      <td>False Positives</td>\n",
       "      <td>5</td>\n",
       "      <td>20</td>\n",
       "      <td>27</td>\n",
       "      <td>49</td>\n",
       "    </tr>\n",
       "    <tr>\n",
       "      <th>3</th>\n",
       "      <td>True Positives</td>\n",
       "      <td>85</td>\n",
       "      <td>70</td>\n",
       "      <td>63</td>\n",
       "      <td>41</td>\n",
       "    </tr>\n",
       "    <tr>\n",
       "      <th>4</th>\n",
       "      <td>Accuracy</td>\n",
       "      <td>0.943089</td>\n",
       "      <td>0.793496</td>\n",
       "      <td>0.925203</td>\n",
       "      <td>0.918699</td>\n",
       "    </tr>\n",
       "    <tr>\n",
       "      <th>5</th>\n",
       "      <td>Precision</td>\n",
       "      <td>0.73913</td>\n",
       "      <td>0.39548</td>\n",
       "      <td>0.768293</td>\n",
       "      <td>0.97619</td>\n",
       "    </tr>\n",
       "    <tr>\n",
       "      <th>6</th>\n",
       "      <td>Recall</td>\n",
       "      <td>0.944444</td>\n",
       "      <td>0.777778</td>\n",
       "      <td>0.7</td>\n",
       "      <td>0.455556</td>\n",
       "    </tr>\n",
       "    <tr>\n",
       "      <th>7</th>\n",
       "      <td>F1-Score</td>\n",
       "      <td>0.829268</td>\n",
       "      <td>0.524345</td>\n",
       "      <td>0.732558</td>\n",
       "      <td>0.621212</td>\n",
       "    </tr>\n",
       "    <tr>\n",
       "      <th>8</th>\n",
       "      <td>Support</td>\n",
       "      <td>None</td>\n",
       "      <td>None</td>\n",
       "      <td>None</td>\n",
       "      <td>None</td>\n",
       "    </tr>\n",
       "  </tbody>\n",
       "</table>\n",
       "</div>"
      ],
      "text/plain": [
       "           Metrics Isolation Forest LOF Novelty Detection Gaussian Mixture  \\\n",
       "0   True Negatives              495                   418              506   \n",
       "1  False Negatives               30                   107               19   \n",
       "2  False Positives                5                    20               27   \n",
       "3   True Positives               85                    70               63   \n",
       "4         Accuracy         0.943089              0.793496         0.925203   \n",
       "5        Precision          0.73913               0.39548         0.768293   \n",
       "6           Recall         0.944444              0.777778              0.7   \n",
       "7         F1-Score         0.829268              0.524345         0.732558   \n",
       "8          Support             None                  None             None   \n",
       "\n",
       "  Autoencoders  \n",
       "0          524  \n",
       "1            1  \n",
       "2           49  \n",
       "3           41  \n",
       "4     0.918699  \n",
       "5      0.97619  \n",
       "6     0.455556  \n",
       "7     0.621212  \n",
       "8         None  "
      ]
     },
     "execution_count": 19,
     "metadata": {},
     "output_type": "execute_result"
    }
   ],
   "source": [
    "results"
   ]
  },
  {
   "cell_type": "code",
   "execution_count": 20,
   "id": "09b95593",
   "metadata": {},
   "outputs": [],
   "source": [
    "def get_performance_curve(fit_data, predict_data, labels, threshold_range, predict_fn, model=None, model_fn=None, model_args=None):\n",
    "    recall_list = []\n",
    "    audit_ratio_list = []\n",
    "\n",
    "    for i in threshold_range:\n",
    "        if model == None:\n",
    "            new_model = fit_model(fit_data, model_fn, model_args, i, labels)\n",
    "        else:\n",
    "            new_model = model\n",
    "        \n",
    "        y_pred = predict_model(predict_data, new_model, predict_fn, i)\n",
    "\n",
    "        audit_ratio = sum(pred == 1 for pred in y_pred)/len(y_pred)\n",
    "\n",
    "        recall_list.append(recall_score(labels, y_pred))\n",
    "        audit_ratio_list.append(audit_ratio)\n",
    "    \n",
    "    performance_curve = pd.DataFrame()\n",
    "    performance_curve['Audit ratio'] = audit_ratio_list\n",
    "    performance_curve['Detected frauds ratio'] = recall_list\n",
    "\n",
    "    return performance_curve.sort_values('Audit ratio')\n",
    "\n",
    "ideal_curve = pd.DataFrame()\n",
    "ideal_curve['Audit ratio'] = [0, 0.15, 1]\n",
    "ideal_curve['Detected frauds ratio'] = [0, 1, 1]\n",
    "\n",
    "def plot_all_performance_curves(isolation_forest_performance_curve, autoencoder_performance_curve, lof_performance_curve, gm_performance_curve, title):\n",
    "    fig = plt.figure(figsize=(12, 8))\n",
    "    ax = fig.add_subplot(1, 1, 1)\n",
    "    plt.title(title)\n",
    "    plt.xlabel('Audit ratio')\n",
    "    plt.ylabel('Detected frauds ratio')\n",
    "\n",
    "    plt.xlim(right=0.5)\n",
    "\n",
    "    x_ticks = np.arange(0, 0.55, 0.05)\n",
    "    y_ticks = np.arange(0, 1.1, 0.1)\n",
    "\n",
    "    ax.set_xticks(x_ticks)\n",
    "    ax.set_yticks(y_ticks)\n",
    "\n",
    "    plt.plot(isolation_forest_performance_curve['Audit ratio'], isolation_forest_performance_curve['Detected frauds ratio'], label='Isolation Forest')\n",
    "    plt.plot(autoencoder_performance_curve['Audit ratio'], autoencoder_performance_curve['Detected frauds ratio'], label='Autoencoder')\n",
    "    plt.plot(lof_performance_curve['Audit ratio'], lof_performance_curve['Detected frauds ratio'], label='Local Outlier Factor')\n",
    "    plt.plot(gm_performance_curve['Audit ratio'], gm_performance_curve['Detected frauds ratio'], label='Gaussian Mixture')\n",
    "    plt.plot(ideal_curve['Audit ratio'], ideal_curve['Detected frauds ratio'], label='Ideal curve', linestyle='--')\n",
    "    plt.axvline(0.15, linestyle='--')\n",
    "\n",
    "    plt.grid(linestyle='--')\n",
    "    plt.legend()"
   ]
  },
  {
   "cell_type": "code",
   "execution_count": 21,
   "id": "0368f560",
   "metadata": {},
   "outputs": [
    {
     "data": {
      "image/png": "[encoded data removed]",
      "text/plain": [
       "<Figure size 864x576 with 1 Axes>"
      ]
     },
     "metadata": {
      "needs_background": "light"
     },
     "output_type": "display_data"
    }
   ],
   "source": [
    "# Get performance curves with minimal preprocessing\n",
    "threshold_range = np.logspace(np.log10(0.001), np.log10(0.5))\n",
    "\n",
    "if_performance_curve_test = get_performance_curve(X_train, X_test, y_test, threshold_range, predict_isolation_forest, model_fn=fit_isolation_forest)\n",
    "lof_performance_curve_test = get_performance_curve(X_train, X_test, y_test, threshold_range, predict_local_outlier_factor, model_fn=fit_local_outlier_factor, model_args=[20])\n",
    "gm_curve_test = get_performance_curve(X_train, X_test, y_test, threshold_range, predict_gaussian_mixture, model_fn=fit_gaussian_mixture)\n",
    "ae_performance_curve_test = get_performance_curve(X_train, X_test, y_test, threshold_range, predict_autoencoder, model_fn=fit_autoencoder, model_args=[0.0001, 300])\n",
    "\n",
    "# Plot performance curves\n",
    "plot_all_performance_curves(if_performance_curve_test, ae_performance_curve_test, lof_performance_curve_test, gm_curve_test, 'Performance curve with minimal preprocessing')"
   ]
  },
  {
   "cell_type": "code",
   "execution_count": null,
   "id": "206a50dd",
   "metadata": {},
   "outputs": [],
   "source": []
  }
 ],
 "metadata": {
  "kernelspec": {
   "display_name": "Python 3",
   "language": "python",
   "name": "python3"
  },
  "language_info": {
   "codemirror_mode": {
    "name": "ipython",
    "version": 3
   },
   "file_extension": ".py",
   "mimetype": "text/x-python",
   "name": "python",
   "nbconvert_exporter": "python",
   "pygments_lexer": "ipython3",
   "version": "3.8.8"
  }
 },
 "nbformat": 4,
 "nbformat_minor": 5
}
